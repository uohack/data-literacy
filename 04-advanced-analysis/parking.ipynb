{
 "cells": [
  {
   "cell_type": "code",
   "execution_count": 0,
   "metadata": {
    "colab": {
     "autoexec": {
      "startup": false,
      "wait_interval": 0
     }
    },
    "colab_type": "code",
    "collapsed": true,
    "id": "8xju6kfX3LXB"
   },
   "outputs": [],
   "source": [
    "# First we must import pandas, a data analysis module for python\n",
    "# See: https://pandas.pydata.org/pandas-docs/stable/10min.html\n",
    "import pandas as pd"
   ]
  },
  {
   "cell_type": "code",
   "execution_count": 28,
   "metadata": {
    "colab": {
     "autoexec": {
      "startup": false,
      "wait_interval": 0
     },
     "base_uri": "https://localhost:8080/",
     "height": 187,
     "output_extras": [
      {
       "item_id": 1
      }
     ]
    },
    "colab_type": "code",
    "executionInfo": {
     "elapsed": 814,
     "status": "ok",
     "timestamp": 1510519574121,
     "user": {
      "displayName": "Robert R. Denton",
      "photoUrl": "//lh5.googleusercontent.com/-eRP7ZUGi8Z8/AAAAAAAAAAI/AAAAAAAAAic/E5CuJ1Xcoco/s50-c-k-no/photo.jpg",
      "userId": "109230609937360618794"
     },
     "user_tz": 480
    },
    "id": "ZBUMWX-H3LXG",
    "outputId": "45d9707b-8290-4964-9ff4-443d13519120"
   },
   "outputs": [
    {
     "name": "stdout",
     "output_type": "stream",
     "text": [
      "<class 'pandas.core.frame.DataFrame'>\n",
      "RangeIndex: 31086 entries, 0 to 31085\n",
      "Data columns (total 5 columns):\n",
      "ISSUE DATE                31086 non-null object\n",
      "ISSUE TIME                31050 non-null object\n",
      "FINE AMOUNT               31086 non-null object\n",
      "TICKET LOCATION STREET    31086 non-null object\n",
      "VIOLATION DESCRIPTION     31086 non-null object\n",
      "dtypes: object(5)\n",
      "memory usage: 1.2+ MB\n"
     ]
    }
   ],
   "source": [
    "# \"Import\" data into pandas\n",
    "# See: https://pandas.pydata.org/pandas-docs/stable/generated/pandas.read_csv.html\n",
    "citations = pd.read_csv('https://raw.githubusercontent.com/uohack/data-literacy/master/04-advanced-analysis/citations.csv')\n",
    "\n",
    "# Get snapshot of the data\n",
    "citations.info()"
   ]
  },
  {
   "cell_type": "code",
   "execution_count": 29,
   "metadata": {
    "colab": {
     "autoexec": {
      "startup": false,
      "wait_interval": 0
     },
     "base_uri": "https://localhost:8080/",
     "height": 173,
     "output_extras": [
      {
       "item_id": 1
      }
     ]
    },
    "colab_type": "code",
    "executionInfo": {
     "elapsed": 379,
     "status": "ok",
     "timestamp": 1510519574529,
     "user": {
      "displayName": "Robert R. Denton",
      "photoUrl": "//lh5.googleusercontent.com/-eRP7ZUGi8Z8/AAAAAAAAAAI/AAAAAAAAAic/E5CuJ1Xcoco/s50-c-k-no/photo.jpg",
      "userId": "109230609937360618794"
     },
     "user_tz": 480
    },
    "id": "frCxur8I3LXL",
    "outputId": "828b994e-6508-4e6f-911d-902d1f851f32"
   },
   "outputs": [
    {
     "data": {
      "text/html": [
       "<div>\n",
       "<style>\n",
       "    .dataframe thead tr:only-child th {\n",
       "        text-align: right;\n",
       "    }\n",
       "\n",
       "    .dataframe thead th {\n",
       "        text-align: left;\n",
       "    }\n",
       "\n",
       "    .dataframe tbody tr th {\n",
       "        vertical-align: top;\n",
       "    }\n",
       "</style>\n",
       "<table border=\"1\" class=\"dataframe\">\n",
       "  <thead>\n",
       "    <tr style=\"text-align: right;\">\n",
       "      <th></th>\n",
       "      <th>ISSUE DATE</th>\n",
       "      <th>ISSUE TIME</th>\n",
       "      <th>FINE AMOUNT</th>\n",
       "      <th>TICKET LOCATION STREET</th>\n",
       "      <th>VIOLATION DESCRIPTION</th>\n",
       "    </tr>\n",
       "  </thead>\n",
       "  <tbody>\n",
       "    <tr>\n",
       "      <th>count</th>\n",
       "      <td>31086</td>\n",
       "      <td>31050</td>\n",
       "      <td>31086</td>\n",
       "      <td>31086</td>\n",
       "      <td>31086</td>\n",
       "    </tr>\n",
       "    <tr>\n",
       "      <th>unique</th>\n",
       "      <td>626</td>\n",
       "      <td>1137</td>\n",
       "      <td>15</td>\n",
       "      <td>429</td>\n",
       "      <td>47</td>\n",
       "    </tr>\n",
       "    <tr>\n",
       "      <th>top</th>\n",
       "      <td>10/3/2016</td>\n",
       "      <td>10:34</td>\n",
       "      <td>$20.00</td>\n",
       "      <td>UNIVERSITY ST METERS</td>\n",
       "      <td>OVERTIME STREET MTR</td>\n",
       "    </tr>\n",
       "    <tr>\n",
       "      <th>freq</th>\n",
       "      <td>178</td>\n",
       "      <td>113</td>\n",
       "      <td>12355</td>\n",
       "      <td>5933</td>\n",
       "      <td>7415</td>\n",
       "    </tr>\n",
       "  </tbody>\n",
       "</table>\n",
       "</div>"
      ],
      "text/plain": [
       "       ISSUE DATE ISSUE TIME FINE AMOUNT TICKET LOCATION STREET  \\\n",
       "count       31086      31050       31086                  31086   \n",
       "unique        626       1137          15                    429   \n",
       "top     10/3/2016      10:34      $20.00   UNIVERSITY ST METERS   \n",
       "freq          178        113       12355                   5933   \n",
       "\n",
       "       VIOLATION DESCRIPTION  \n",
       "count                  31086  \n",
       "unique                    47  \n",
       "top      OVERTIME STREET MTR  \n",
       "freq                    7415  "
      ]
     },
     "execution_count": 29,
     "metadata": {
      "tags": []
     },
     "output_type": "execute_result"
    }
   ],
   "source": [
    "# Show a quick description of the data\n",
    "# More info on describe(): http://pandas.pydata.org/pandas-docs/stable/generated/pandas.DataFrame.describe.html\n",
    "citations.describe()"
   ]
  },
  {
   "cell_type": "code",
   "execution_count": 30,
   "metadata": {
    "colab": {
     "autoexec": {
      "startup": false,
      "wait_interval": 0
     },
     "base_uri": "https://localhost:8080/",
     "height": 204,
     "output_extras": [
      {
       "item_id": 1
      }
     ]
    },
    "colab_type": "code",
    "executionInfo": {
     "elapsed": 6130,
     "status": "ok",
     "timestamp": 1510519580778,
     "user": {
      "displayName": "Robert R. Denton",
      "photoUrl": "//lh5.googleusercontent.com/-eRP7ZUGi8Z8/AAAAAAAAAAI/AAAAAAAAAic/E5CuJ1Xcoco/s50-c-k-no/photo.jpg",
      "userId": "109230609937360618794"
     },
     "user_tz": 480
    },
    "id": "2Fz5aD5MuKhC",
    "outputId": "522f9d4b-e616-4f31-e2eb-03b3748f0f19"
   },
   "outputs": [
    {
     "name": "stdout",
     "output_type": "stream",
     "text": [
      "<class 'pandas.core.frame.DataFrame'>\n",
      "RangeIndex: 31086 entries, 0 to 31085\n",
      "Data columns (total 6 columns):\n",
      "ISSUE DATE                31086 non-null object\n",
      "ISSUE TIME                31050 non-null object\n",
      "FINE AMOUNT               31086 non-null object\n",
      "TICKET LOCATION STREET    31086 non-null object\n",
      "VIOLATION DESCRIPTION     31086 non-null object\n",
      "new datetime              31050 non-null datetime64[ns]\n",
      "dtypes: datetime64[ns](1), object(5)\n",
      "memory usage: 1.4+ MB\n"
     ]
    }
   ],
   "source": [
    "# Convert column from plain text to datetime\n",
    "# See: https://stackoverflow.com/a/17978188\n",
    "citations['new datetime'] = pd.to_datetime(citations['ISSUE DATE'] + ' ' + citations['ISSUE TIME'])\n",
    "# Check column type now\n",
    "citations.info()"
   ]
  },
  {
   "cell_type": "code",
   "execution_count": 31,
   "metadata": {
    "colab": {
     "autoexec": {
      "startup": false,
      "wait_interval": 0
     },
     "base_uri": "https://localhost:8080/",
     "height": 136,
     "output_extras": [
      {
       "item_id": 1
      }
     ]
    },
    "colab_type": "code",
    "executionInfo": {
     "elapsed": 361,
     "status": "ok",
     "timestamp": 1510519581200,
     "user": {
      "displayName": "Robert R. Denton",
      "photoUrl": "//lh5.googleusercontent.com/-eRP7ZUGi8Z8/AAAAAAAAAAI/AAAAAAAAAic/E5CuJ1Xcoco/s50-c-k-no/photo.jpg",
      "userId": "109230609937360618794"
     },
     "user_tz": 480
    },
    "id": "xhRdr8WL3LXW",
    "outputId": "556041d8-184a-432b-a90e-7565dd3b43de"
   },
   "outputs": [
    {
     "data": {
      "text/plain": [
       "count                   31050\n",
       "unique                  29576\n",
       "top       2015-03-10 13:49:00\n",
       "freq                        3\n",
       "first     2015-01-04 02:08:00\n",
       "last      2017-03-13 17:22:00\n",
       "Name: new datetime, dtype: object"
      ]
     },
     "execution_count": 31,
     "metadata": {
      "tags": []
     },
     "output_type": "execute_result"
    }
   ],
   "source": [
    "# Check max and min now\n",
    "citations['new datetime'].describe()"
   ]
  },
  {
   "cell_type": "code",
   "execution_count": 32,
   "metadata": {
    "colab": {
     "autoexec": {
      "startup": false,
      "wait_interval": 0
     },
     "base_uri": "https://localhost:8080/",
     "height": 136,
     "output_extras": [
      {
       "item_id": 1
      }
     ]
    },
    "colab_type": "code",
    "executionInfo": {
     "elapsed": 518,
     "status": "ok",
     "timestamp": 1510519581884,
     "user": {
      "displayName": "Robert R. Denton",
      "photoUrl": "//lh5.googleusercontent.com/-eRP7ZUGi8Z8/AAAAAAAAAAI/AAAAAAAAAic/E5CuJ1Xcoco/s50-c-k-no/photo.jpg",
      "userId": "109230609937360618794"
     },
     "user_tz": 480
    },
    "id": "SJHyy0Rx3LXa",
    "outputId": "aedfde61-d314-43a8-d8fb-59bd8d3cf7c0"
   },
   "outputs": [
    {
     "data": {
      "text/plain": [
       "count                   14032\n",
       "unique                  13394\n",
       "top       2015-11-06 15:48:00\n",
       "freq                        3\n",
       "first     2015-07-01 07:31:00\n",
       "last      2016-06-30 16:59:00\n",
       "Name: new datetime, dtype: object"
      ]
     },
     "execution_count": 32,
     "metadata": {
      "tags": []
     },
     "output_type": "execute_result"
    }
   ],
   "source": [
    "# Remove dates before outside of FY 2015-16\n",
    "# See: https://stackoverflow.com/a/27360130\n",
    "# Example: df = df.drop(df[<some boolean condition>].index)\n",
    "citations = citations.drop(citations[citations['new datetime'] < '7-1-2015 00:00:00'].index).drop(citations[citations['new datetime'] > '6-30-2016 23:59:59'].index)\n",
    "# Check max and min now\n",
    "citations['new datetime'].describe()"
   ]
  },
  {
   "cell_type": "code",
   "execution_count": 33,
   "metadata": {
    "colab": {
     "autoexec": {
      "startup": false,
      "wait_interval": 0
     },
     "base_uri": "https://localhost:8080/",
     "height": 1071,
     "output_extras": [
      {
       "item_id": 1
      }
     ]
    },
    "colab_type": "code",
    "executionInfo": {
     "elapsed": 324,
     "status": "ok",
     "timestamp": 1510519582332,
     "user": {
      "displayName": "Robert R. Denton",
      "photoUrl": "//lh5.googleusercontent.com/-eRP7ZUGi8Z8/AAAAAAAAAAI/AAAAAAAAAic/E5CuJ1Xcoco/s50-c-k-no/photo.jpg",
      "userId": "109230609937360618794"
     },
     "user_tz": 480
    },
    "id": "wmp86NMD3LXh",
    "outputId": "606a8ef7-815f-4399-889e-8e64ee3bc19d"
   },
   "outputs": [
    {
     "data": {
      "text/plain": [
       "UNIVERSITY ST METERS         2673\n",
       "LOT 16A - FAC/STAFF LOT      1302\n",
       "15TH AVE                      883\n",
       "LOT 29A - EMU VIS LOT         578\n",
       "LOT 12A - ONYX-LAWRENCE       560\n",
       "13TH AVE METERS               558\n",
       "LOT 15 - JAQUA                480\n",
       "LOT 17 - HEDCO                477\n",
       "LOT 56 - MILLRACE             403\n",
       "LOT 42 - 12TH W OF KIN        377\n",
       "LOT 18 - EDUCATION            266\n",
       "LOT 44 - GRAD VILLAGE         248\n",
       "LOT 36A - CARSON              244\n",
       "SPENCER VIEW APTS             223\n",
       "LOT 33 - BEAN EAST            218\n",
       "LOT 55 - MOSS ST              216\n",
       "LOT 50 - BARNHART             214\n",
       "LOT 37 - HAMILTON E           214\n",
       "LOT 34E - GLOBAL SCHOLARS     201\n",
       "LOT 46 - MOSS CONNECT         191\n",
       "LOT 19 - HEDCO/CSB            168\n",
       "LOT 13 - 13TH BEECH-UNIV      163\n",
       "15TH AVE METERS               137\n",
       "LOT 6A - 11TH/KINCAID         135\n",
       "LOT 30 - MCCT                 126\n",
       "LOT 58 - 1715 FRANKLIN        126\n",
       "LOT 99 - COL. GARAGE          108\n",
       "LOT 52 - UOPD EAST             95\n",
       "LOT 3A - AAA AREA              89\n",
       "LOT 36B - STU HEALTH           85\n",
       "                             ... \n",
       "MILLRACE BLD SOUTH              1\n",
       "1455 - 15TH ST                  1\n",
       "1320 BEACH                      1\n",
       "LOKEY NORTH                     1\n",
       "FINE ARTS STUDIO EAST           1\n",
       "LAW SOUTH                       1\n",
       "21                              1\n",
       "20                              1\n",
       "AGATE                           1\n",
       "CAMPUS OPS                      1\n",
       "EARL NE                         1\n",
       "13TH MTR 7                      1\n",
       "MOON LEE                        1\n",
       "178                             1\n",
       "CAMPUS OPERATIONS               1\n",
       "H FAC SVCS SPACES               1\n",
       "DESCHUTES                       1\n",
       "13 TH CLOSED                    1\n",
       "SRC TENNIS COURT                1\n",
       "DROPPED OFF                     1\n",
       "GSH WEST                        1\n",
       "PIONER CEMETARY                 1\n",
       "STROB                           1\n",
       "A ROUND WALNUT                  1\n",
       "MATHEW KNIGHT AREA EAST         1\n",
       "1790 MOSS ST                    1\n",
       "LAWRENCE NW                     1\n",
       "HAYWARD FIELD 2                 1\n",
       "LLC                             1\n",
       "DUCK METERS                     1\n",
       "Name: TICKET LOCATION STREET, Length: 292, dtype: int64"
      ]
     },
     "execution_count": 33,
     "metadata": {
      "tags": []
     },
     "output_type": "execute_result"
    }
   ],
   "source": [
    "# Value counts are the best!\n",
    "# See: https://pandas.pydata.org/pandas-docs/stable/generated/pandas.Series.value_counts.html\n",
    "citations['TICKET LOCATION STREET'].value_counts()"
   ]
  },
  {
   "cell_type": "code",
   "execution_count": 34,
   "metadata": {
    "colab": {
     "autoexec": {
      "startup": false,
      "wait_interval": 0
     },
     "base_uri": "https://localhost:8080/",
     "height": 170,
     "output_extras": [
      {
       "item_id": 1
      }
     ]
    },
    "colab_type": "code",
    "executionInfo": {
     "elapsed": 354,
     "status": "ok",
     "timestamp": 1510519582826,
     "user": {
      "displayName": "Robert R. Denton",
      "photoUrl": "//lh5.googleusercontent.com/-eRP7ZUGi8Z8/AAAAAAAAAAI/AAAAAAAAAic/E5CuJ1Xcoco/s50-c-k-no/photo.jpg",
      "userId": "109230609937360618794"
     },
     "user_tz": 480
    },
    "id": "Zq0QI4hd3LXn",
    "outputId": "abf9978a-89dc-4bcc-ed4c-537c380135e0"
   },
   "outputs": [
    {
     "data": {
      "text/plain": [
       "count     292.000000\n",
       "mean       48.178082\n",
       "std       198.066363\n",
       "min         1.000000\n",
       "25%         1.000000\n",
       "50%         2.000000\n",
       "75%        12.250000\n",
       "max      2673.000000\n",
       "Name: TICKET LOCATION STREET, dtype: float64"
      ]
     },
     "execution_count": 34,
     "metadata": {
      "tags": []
     },
     "output_type": "execute_result"
    }
   ],
   "source": [
    "# And get some data just to be sure\n",
    "citations['TICKET LOCATION STREET'].value_counts().describe()"
   ]
  },
  {
   "cell_type": "code",
   "execution_count": 0,
   "metadata": {
    "colab": {
     "autoexec": {
      "startup": false,
      "wait_interval": 0
     }
    },
    "colab_type": "code",
    "collapsed": true,
    "id": "wO22nZ6G5wTw"
   },
   "outputs": [],
   "source": [
    "# Create new column for day of week\n",
    "# See: https://stackoverflow.com/a/28009526\n",
    "# Example: df['weekday'] = df['Timestamp'].dt.dayofweek\n",
    "citations['new dayofweek'] = citations['new datetime'].dt.dayofweek "
   ]
  },
  {
   "cell_type": "code",
   "execution_count": 0,
   "metadata": {
    "colab": {
     "autoexec": {
      "startup": false,
      "wait_interval": 0
     }
    },
    "colab_type": "code",
    "collapsed": true,
    "id": "315j5jKU6-Wv"
   },
   "outputs": [],
   "source": [
    "# See counts for day of week\n",
    "# See: https://pandas.pydata.org/pandas-docs/stable/generated/pandas.DataFrame.groupby.html\n",
    "# See: https://pandas.pydata.org/pandas-docs/stable/generated/pandas.DatetimeIndex.dayofweek.html\n",
    "df = citations.groupby(citations['new dayofweek']).count()"
   ]
  },
  {
   "cell_type": "code",
   "execution_count": 71,
   "metadata": {
    "colab": {
     "autoexec": {
      "startup": false,
      "wait_interval": 0
     },
     "base_uri": "https://localhost:8080/",
     "height": 378,
     "output_extras": [
      {
       "item_id": 1
      },
      {
       "item_id": 2
      }
     ]
    },
    "colab_type": "code",
    "executionInfo": {
     "elapsed": 574,
     "status": "ok",
     "timestamp": 1510521977129,
     "user": {
      "displayName": "Robert R. Denton",
      "photoUrl": "//lh5.googleusercontent.com/-eRP7ZUGi8Z8/AAAAAAAAAAI/AAAAAAAAAic/E5CuJ1Xcoco/s50-c-k-no/photo.jpg",
      "userId": "109230609937360618794"
     },
     "user_tz": 480
    },
    "id": "-mA7QDNVHlOt",
    "outputId": "657f33a2-4eee-459c-ce57-61f0a8b3563e"
   },
   "outputs": [
    {
     "data": {
      "text/plain": [
       "<matplotlib.axes._subplots.AxesSubplot at 0x7f0ff154cc50>"
      ]
     },
     "execution_count": 71,
     "metadata": {
      "tags": []
     },
     "output_type": "execute_result"
    },
    {
     "data": {
      "image/png": "[encoded data removed]",
      "text/plain": [
       "<matplotlib.figure.Figure at 0x7f0ff17569d0>"
      ]
     },
     "metadata": {
      "tags": []
     },
     "output_type": "display_data"
    }
   ],
   "source": [
    "df.plot()"
   ]
  },
  {
   "cell_type": "code",
   "execution_count": 72,
   "metadata": {
    "colab": {
     "autoexec": {
      "startup": false,
      "wait_interval": 0
     },
     "base_uri": "https://localhost:8080/",
     "height": 382,
     "output_extras": [
      {
       "item_id": 1
      },
      {
       "item_id": 2
      }
     ]
    },
    "colab_type": "code",
    "executionInfo": {
     "elapsed": 663,
     "status": "ok",
     "timestamp": 1510521979053,
     "user": {
      "displayName": "Robert R. Denton",
      "photoUrl": "//lh5.googleusercontent.com/-eRP7ZUGi8Z8/AAAAAAAAAAI/AAAAAAAAAic/E5CuJ1Xcoco/s50-c-k-no/photo.jpg",
      "userId": "109230609937360618794"
     },
     "user_tz": 480
    },
    "id": "TxiTpTYc-toj",
    "outputId": "2af02045-adc3-4c1e-b4fb-4ea76ff70767",
    "scrolled": false
   },
   "outputs": [
    {
     "data": {
      "text/plain": [
       "<matplotlib.axes._subplots.AxesSubplot at 0x7f0ff1451810>"
      ]
     },
     "execution_count": 72,
     "metadata": {
      "tags": []
     },
     "output_type": "execute_result"
    },
    {
     "data": {
      "image/png": "[encoded data removed]",
      "text/plain": [
       "<matplotlib.figure.Figure at 0x7f0ff1292890>"
      ]
     },
     "metadata": {
      "tags": []
     },
     "output_type": "display_data"
    }
   ],
   "source": [
    "df.plot(kind='bar')"
   ]
  },
  {
   "cell_type": "code",
   "execution_count": 73,
   "metadata": {
    "colab": {
     "autoexec": {
      "startup": false,
      "wait_interval": 0
     },
     "base_uri": "https://localhost:8080/",
     "height": 382,
     "output_extras": [
      {
       "item_id": 1
      },
      {
       "item_id": 2
      }
     ]
    },
    "colab_type": "code",
    "executionInfo": {
     "elapsed": 523,
     "status": "ok",
     "timestamp": 1510521980218,
     "user": {
      "displayName": "Robert R. Denton",
      "photoUrl": "//lh5.googleusercontent.com/-eRP7ZUGi8Z8/AAAAAAAAAAI/AAAAAAAAAic/E5CuJ1Xcoco/s50-c-k-no/photo.jpg",
      "userId": "109230609937360618794"
     },
     "user_tz": 480
    },
    "id": "DlrBB5sACDTf",
    "outputId": "0613ba89-6010-4877-bf3c-7c9ed661e949"
   },
   "outputs": [
    {
     "data": {
      "text/plain": [
       "<matplotlib.axes._subplots.AxesSubplot at 0x7f0ff1362d50>"
      ]
     },
     "execution_count": 73,
     "metadata": {
      "tags": []
     },
     "output_type": "execute_result"
    },
    {
     "data": {
      "image/png": "[encoded data removed]",
      "text/plain": [
       "<matplotlib.figure.Figure at 0x7f0ff11518d0>"
      ]
     },
     "metadata": {
      "tags": []
     },
     "output_type": "display_data"
    }
   ],
   "source": [
    "df.plot(y='ISSUE DATE', kind='bar')"
   ]
  }
 ],
 "metadata": {
  "colab": {
   "collapsed_sections": [],
   "default_view": {},
   "name": "parking.ipynb",
   "provenance": [],
   "version": "0.3.2",
   "views": {}
  },
  "kernelspec": {
   "display_name": "Python 2",
   "language": "python",
   "name": "python2"
  },
  "language_info": {
   "codemirror_mode": {
    "name": "ipython",
    "version": 2
   },
   "file_extension": ".py",
   "mimetype": "text/x-python",
   "name": "python",
   "nbconvert_exporter": "python",
   "pygments_lexer": "ipython2",
   "version": "2.7.10"
  }
 },
 "nbformat": 4,
 "nbformat_minor": 1
}
